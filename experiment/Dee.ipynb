{
 "cells": [
  {
   "cell_type": "code",
   "execution_count": 36,
   "metadata": {},
   "outputs": [
    {
     "name": "stdout",
     "output_type": "stream",
     "text": [
      "Requirement already satisfied: pandas in c:\\users\\acer\\onedrive\\desktop\\healthcare insurance\\env\\lib\\site-packages (2.2.3)\n",
      "Requirement already satisfied: numpy>=1.26.0 in c:\\users\\acer\\onedrive\\desktop\\healthcare insurance\\env\\lib\\site-packages (from pandas) (2.2.5)\n",
      "Requirement already satisfied: python-dateutil>=2.8.2 in c:\\users\\acer\\onedrive\\desktop\\healthcare insurance\\env\\lib\\site-packages (from pandas) (2.9.0.post0)\n",
      "Requirement already satisfied: pytz>=2020.1 in c:\\users\\acer\\onedrive\\desktop\\healthcare insurance\\env\\lib\\site-packages (from pandas) (2025.2)\n",
      "Requirement already satisfied: tzdata>=2022.7 in c:\\users\\acer\\onedrive\\desktop\\healthcare insurance\\env\\lib\\site-packages (from pandas) (2025.2)\n",
      "Requirement already satisfied: six>=1.5 in c:\\users\\acer\\onedrive\\desktop\\healthcare insurance\\env\\lib\\site-packages (from python-dateutil>=2.8.2->pandas) (1.17.0)\n",
      "Note: you may need to restart the kernel to use updated packages.\n"
     ]
    },
    {
     "name": "stderr",
     "output_type": "stream",
     "text": [
      "\n",
      "[notice] A new release of pip is available: 24.2 -> 25.1\n",
      "[notice] To update, run: python.exe -m pip install --upgrade pip\n"
     ]
    }
   ],
   "source": [
    "pip install pandas"
   ]
  },
  {
   "cell_type": "code",
   "execution_count": 37,
   "metadata": {},
   "outputs": [
    {
     "name": "stdout",
     "output_type": "stream",
     "text": [
      "<class 'pandas.core.frame.DataFrame'>\n",
      "RangeIndex: 9549 entries, 0 to 9548\n",
      "Data columns (total 23 columns):\n",
      " #   Column                 Non-Null Count  Dtype  \n",
      "---  ------                 --------------  -----  \n",
      " 0   Age                    9549 non-null   float64\n",
      " 1   BMI                    9549 non-null   float64\n",
      " 2   Blood_Pressure         9549 non-null   float64\n",
      " 3   Cholesterol            9549 non-null   float64\n",
      " 4   Glucose_Level          9549 non-null   float64\n",
      " 5   Heart_Rate             9549 non-null   float64\n",
      " 6   Sleep_Hours            9549 non-null   float64\n",
      " 7   Exercise_Hours         9549 non-null   float64\n",
      " 8   Water_Intake           9549 non-null   float64\n",
      " 9   Stress_Level           9549 non-null   float64\n",
      " 10  Target                 9549 non-null   int64  \n",
      " 11  Smoking                9549 non-null   int64  \n",
      " 12  Alcohol                9549 non-null   int64  \n",
      " 13  Diet                   9549 non-null   int64  \n",
      " 14  MentalHealth           9549 non-null   int64  \n",
      " 15  PhysicalActivity       9549 non-null   int64  \n",
      " 16  MedicalHistory         9549 non-null   int64  \n",
      " 17  Allergies              9549 non-null   int64  \n",
      " 18  Diet_Type__Vegan       9549 non-null   bool   \n",
      " 19  Diet_Type__Vegetarian  9549 non-null   bool   \n",
      " 20  Blood_Group_AB         9549 non-null   bool   \n",
      " 21  Blood_Group_B          9549 non-null   bool   \n",
      " 22  Blood_Group_O          9549 non-null   bool   \n",
      "dtypes: bool(5), float64(10), int64(8)\n",
      "memory usage: 1.4 MB\n",
      "None\n",
      "    Age   BMI  Blood_Pressure  Cholesterol  Glucose_Level  Heart_Rate  \\\n",
      "0   2.0  26.0           111.0        198.0           99.0        72.0   \n",
      "1   8.0  24.0           121.0        199.0          103.0        75.0   \n",
      "2  81.0  27.0           147.0        203.0          100.0        74.0   \n",
      "3  25.0  21.0           150.0        199.0          102.0        70.0   \n",
      "4  24.0  26.0           146.0        202.0           99.0        76.0   \n",
      "\n",
      "   Sleep_Hours  Exercise_Hours  Water_Intake  Stress_Level  ...  Diet  \\\n",
      "0          4.0             1.0           5.0           5.0  ...     1   \n",
      "1          2.0             1.0           2.0           9.0  ...     1   \n",
      "2         10.0            -0.0           5.0           1.0  ...     2   \n",
      "3          7.0             3.0           3.0           3.0  ...     1   \n",
      "4         10.0             2.0           5.0           1.0  ...     2   \n",
      "\n",
      "   MentalHealth  PhysicalActivity  MedicalHistory  Allergies  \\\n",
      "0             2                 1               0          1   \n",
      "1             2                 1               2          2   \n",
      "2             0                 0               1          0   \n",
      "3             2                 1               2          0   \n",
      "4             0                 2               0          2   \n",
      "\n",
      "   Diet_Type__Vegan  Diet_Type__Vegetarian  Blood_Group_AB  Blood_Group_B  \\\n",
      "0             False                   True            True          False   \n",
      "1             False                  False            True          False   \n",
      "2              True                  False           False          False   \n",
      "3              True                  False           False           True   \n",
      "4             False                   True           False           True   \n",
      "\n",
      "   Blood_Group_O  \n",
      "0          False  \n",
      "1          False  \n",
      "2          False  \n",
      "3          False  \n",
      "4          False  \n",
      "\n",
      "[5 rows x 23 columns]\n"
     ]
    }
   ],
   "source": [
    "import pandas as pd\n",
    "\n",
    "# Load the dataset\n",
    "file_path = r\"C:\\Users\\acer\\OneDrive\\Desktop\\Healthcare Insurance\\Healthcare_Dataset_Preprocessed.csv\"\n",
    "df = pd.read_csv(file_path)\n",
    "\n",
    "# Display structure\n",
    "print(df.info())\n",
    "print(df.head())\n"
   ]
  },
  {
   "cell_type": "code",
   "execution_count": 38,
   "metadata": {},
   "outputs": [
    {
     "name": "stdout",
     "output_type": "stream",
     "text": [
      "Requirement already satisfied: scikit-learn in c:\\users\\acer\\onedrive\\desktop\\healthcare insurance\\env\\lib\\site-packages (1.6.1)\n",
      "Requirement already satisfied: matplotlib in c:\\users\\acer\\onedrive\\desktop\\healthcare insurance\\env\\lib\\site-packages (3.10.1)\n",
      "Requirement already satisfied: seaborn in c:\\users\\acer\\onedrive\\desktop\\healthcare insurance\\env\\lib\\site-packages (0.13.2)\n",
      "Requirement already satisfied: numpy>=1.19.5 in c:\\users\\acer\\onedrive\\desktop\\healthcare insurance\\env\\lib\\site-packages (from scikit-learn) (2.2.5)\n",
      "Requirement already satisfied: scipy>=1.6.0 in c:\\users\\acer\\onedrive\\desktop\\healthcare insurance\\env\\lib\\site-packages (from scikit-learn) (1.15.2)\n",
      "Requirement already satisfied: joblib>=1.2.0 in c:\\users\\acer\\onedrive\\desktop\\healthcare insurance\\env\\lib\\site-packages (from scikit-learn) (1.4.2)\n",
      "Requirement already satisfied: threadpoolctl>=3.1.0 in c:\\users\\acer\\onedrive\\desktop\\healthcare insurance\\env\\lib\\site-packages (from scikit-learn) (3.6.0)\n",
      "Requirement already satisfied: contourpy>=1.0.1 in c:\\users\\acer\\onedrive\\desktop\\healthcare insurance\\env\\lib\\site-packages (from matplotlib) (1.3.2)\n",
      "Requirement already satisfied: cycler>=0.10 in c:\\users\\acer\\onedrive\\desktop\\healthcare insurance\\env\\lib\\site-packages (from matplotlib) (0.12.1)\n",
      "Requirement already satisfied: fonttools>=4.22.0 in c:\\users\\acer\\onedrive\\desktop\\healthcare insurance\\env\\lib\\site-packages (from matplotlib) (4.57.0)\n",
      "Requirement already satisfied: kiwisolver>=1.3.1 in c:\\users\\acer\\onedrive\\desktop\\healthcare insurance\\env\\lib\\site-packages (from matplotlib) (1.4.8)\n",
      "Requirement already satisfied: packaging>=20.0 in c:\\users\\acer\\onedrive\\desktop\\healthcare insurance\\env\\lib\\site-packages (from matplotlib) (25.0)\n",
      "Requirement already satisfied: pillow>=8 in c:\\users\\acer\\onedrive\\desktop\\healthcare insurance\\env\\lib\\site-packages (from matplotlib) (11.2.1)\n",
      "Requirement already satisfied: pyparsing>=2.3.1 in c:\\users\\acer\\onedrive\\desktop\\healthcare insurance\\env\\lib\\site-packages (from matplotlib) (3.2.3)\n",
      "Requirement already satisfied: python-dateutil>=2.7 in c:\\users\\acer\\onedrive\\desktop\\healthcare insurance\\env\\lib\\site-packages (from matplotlib) (2.9.0.post0)\n",
      "Requirement already satisfied: pandas>=1.2 in c:\\users\\acer\\onedrive\\desktop\\healthcare insurance\\env\\lib\\site-packages (from seaborn) (2.2.3)\n",
      "Requirement already satisfied: pytz>=2020.1 in c:\\users\\acer\\onedrive\\desktop\\healthcare insurance\\env\\lib\\site-packages (from pandas>=1.2->seaborn) (2025.2)\n",
      "Requirement already satisfied: tzdata>=2022.7 in c:\\users\\acer\\onedrive\\desktop\\healthcare insurance\\env\\lib\\site-packages (from pandas>=1.2->seaborn) (2025.2)\n",
      "Requirement already satisfied: six>=1.5 in c:\\users\\acer\\onedrive\\desktop\\healthcare insurance\\env\\lib\\site-packages (from python-dateutil>=2.7->matplotlib) (1.17.0)\n"
     ]
    },
    {
     "name": "stderr",
     "output_type": "stream",
     "text": [
      "\n",
      "[notice] A new release of pip is available: 24.2 -> 25.1\n",
      "[notice] To update, run: python.exe -m pip install --upgrade pip\n"
     ]
    }
   ],
   "source": [
    "!pip install scikit-learn matplotlib seaborn"
   ]
  },
  {
   "cell_type": "code",
   "execution_count": 39,
   "metadata": {},
   "outputs": [],
   "source": [
    "from sklearn.model_selection import train_test_split\n",
    "from sklearn.ensemble import BaggingClassifier, RandomForestClassifier\n",
    "from sklearn.tree import DecisionTreeClassifier\n",
    "from sklearn.preprocessing import StandardScaler\n",
    "from sklearn.metrics import classification_report, confusion_matrix\n",
    "import matplotlib.pyplot as plt\n",
    "import seaborn as sns\n",
    "\n",
    "# Split features and target\n",
    "X = df.drop('Target', axis=1)\n",
    "y = df['Target']\n",
    "\n",
    "# Train-test split\n",
    "X_train, X_test, y_train, y_test = train_test_split(X, y, test_size=0.2, random_state=42)\n",
    "\n",
    "# Scale numerical features\n",
    "num_cols = X.select_dtypes(include=['float64']).columns\n",
    "scaler = StandardScaler()\n",
    "X_train[num_cols] = scaler.fit_transform(X_train[num_cols])\n",
    "X_test[num_cols] = scaler.transform(X_test[num_cols])\n"
   ]
  },
  {
   "cell_type": "code",
   "execution_count": 40,
   "metadata": {},
   "outputs": [],
   "source": [
    "\n",
    "# Train Bagging Classifier\n",
    "bagging_model = BaggingClassifier(\n",
    "    estimator=DecisionTreeClassifier(),\n",
    "    n_estimators=100,\n",
    "    random_state=42\n",
    ")\n",
    "bagging_model.fit(X_train, y_train)\n",
    "y_pred = bagging_model.predict(X_test)\n",
    "\n",
    "# Evaluation\n",
    "conf_matrix = confusion_matrix(y_test, y_pred)\n",
    "class_report = classification_report(y_test, y_pred, output_dict=True)\n",
    "\n",
    "# Train Random Forest for feature importance\n",
    "rf_model = RandomForestClassifier(n_estimators=100, random_state=42)\n",
    "rf_model.fit(X_train, y_train)\n",
    "importances = rf_model.feature_importances_\n",
    "feature_importance_df = pd.DataFrame({\n",
    "    'Feature': X.columns,\n",
    "    'Importance': importances\n",
    "}).sort_values(by='Importance', ascending=False).reset_index(drop=True)\n"
   ]
  },
  {
   "cell_type": "code",
   "execution_count": 41,
   "metadata": {},
   "outputs": [
    {
     "data": {
      "text/plain": [
       "{'conf_matrix': array([[845,  55],\n",
       "        [ 56, 954]]),\n",
       " 'class_report': {'0': {'precision': 0.9378468368479467,\n",
       "   'recall': 0.9388888888888889,\n",
       "   'f1-score': 0.9383675735702388,\n",
       "   'support': 900.0},\n",
       "  '1': {'precision': 0.9454905847373637,\n",
       "   'recall': 0.9445544554455445,\n",
       "   'f1-score': 0.9450222882615156,\n",
       "   'support': 1010.0},\n",
       "  'accuracy': 0.9418848167539267,\n",
       "  'macro avg': {'precision': 0.9416687107926551,\n",
       "   'recall': 0.9417216721672167,\n",
       "   'f1-score': 0.9416949309158772,\n",
       "   'support': 1910.0},\n",
       "  'weighted avg': {'precision': 0.9418888187161724,\n",
       "   'recall': 0.9418848167539267,\n",
       "   'f1-score': 0.9418865588258355,\n",
       "   'support': 1910.0}},\n",
       " 'feature_importance':                   Feature  Importance\n",
       " 0                     BMI    0.216977\n",
       " 1          Blood_Pressure    0.153406\n",
       " 2             Cholesterol    0.100800\n",
       " 3            Stress_Level    0.080386\n",
       " 4           Glucose_Level    0.073195\n",
       " 5             Sleep_Hours    0.071964\n",
       " 6                     Age    0.070011\n",
       " 7              Heart_Rate    0.052353\n",
       " 8            Water_Intake    0.050424\n",
       " 9          Exercise_Hours    0.027110\n",
       " 10              Allergies    0.011081\n",
       " 11         MedicalHistory    0.011061\n",
       " 12           MentalHealth    0.011016\n",
       " 13                Alcohol    0.010999\n",
       " 14       PhysicalActivity    0.010650\n",
       " 15                Smoking    0.010499\n",
       " 16                   Diet    0.010383\n",
       " 17  Diet_Type__Vegetarian    0.006000\n",
       " 18       Diet_Type__Vegan    0.005908\n",
       " 19          Blood_Group_B    0.005464\n",
       " 20         Blood_Group_AB    0.005362\n",
       " 21          Blood_Group_O    0.004952}"
      ]
     },
     "execution_count": 41,
     "metadata": {},
     "output_type": "execute_result"
    },
    {
     "data": {
      "image/png": "[encoded data removed]",
      "text/plain": [
       "<Figure size 1000x600 with 1 Axes>"
      ]
     },
     "metadata": {},
     "output_type": "display_data"
    }
   ],
   "source": [
    "\n",
    "# Plot feature importances\n",
    "plt.figure(figsize=(10, 6))\n",
    "sns.barplot(x='Importance', y='Feature', data=feature_importance_df.head(10))\n",
    "plt.title(\"Top 10 Feature Importances from Random Forest\")\n",
    "plt.tight_layout()\n",
    "\n",
    "# Save all necessary objects for notebook output\n",
    "results = {\n",
    "    'conf_matrix': conf_matrix,\n",
    "    'class_report': class_report,\n",
    "    'feature_importance': feature_importance_df\n",
    "}\n",
    "results\n"
   ]
  },
  {
   "cell_type": "markdown",
   "metadata": {},
   "source": [
    "Bagging Classifier performed very well!\n",
    "\n",
    "✅ Model Performance:\n",
    "Accuracy: 94.18%\n",
    "\n",
    "Precision (Unhealthy): 94.55%\n",
    "\n",
    "Recall (Unhealthy): 94.46%\n",
    "\n",
    "Top Features (from Random Forest importance):\n",
    "\n",
    "BMI\n",
    "\n",
    "Blood Pressure\n",
    "\n",
    "Cholesterol\n",
    "\n",
    "Stress Level\n",
    "\n",
    "Glucose Level\n",
    "\n"
   ]
  },
  {
   "cell_type": "code",
   "execution_count": 42,
   "metadata": {},
   "outputs": [
    {
     "name": "stdout",
     "output_type": "stream",
     "text": [
      "Accuracy: 0.9419\n",
      "Confusion Matrix:\n",
      " [[845  55]\n",
      " [ 56 954]]\n",
      "Classification Report:\n",
      "               precision    recall  f1-score   support\n",
      "\n",
      "           0       0.94      0.94      0.94       900\n",
      "           1       0.95      0.94      0.95      1010\n",
      "\n",
      "    accuracy                           0.94      1910\n",
      "   macro avg       0.94      0.94      0.94      1910\n",
      "weighted avg       0.94      0.94      0.94      1910\n",
      "\n"
     ]
    }
   ],
   "source": [
    "from sklearn.metrics import accuracy_score, classification_report, confusion_matrix\n",
    "\n",
    "# Predict and evaluate\n",
    "y_pred = bagging_model.predict(X_test)\n",
    "acc = accuracy_score(y_test, y_pred)\n",
    "conf_matrix = confusion_matrix(y_test, y_pred)\n",
    "class_report = classification_report(y_test, y_pred)\n",
    "\n",
    "print(f\"Accuracy: {acc:.4f}\")\n",
    "print(\"Confusion Matrix:\\n\", conf_matrix)\n",
    "print(\"Classification Report:\\n\", class_report)\n"
   ]
  },
  {
   "cell_type": "markdown",
   "metadata": {},
   "source": [
    "To Compare Bagging with Other Models\n",
    "To make your work stand out, compare with other classifiers:\n",
    "\n",
    "Random Forest\n",
    "\n",
    "Gradient Boosting (e.g., XGBoost)\n",
    "\n",
    "Logistic Regression"
   ]
  },
  {
   "cell_type": "code",
   "execution_count": 43,
   "metadata": {},
   "outputs": [
    {
     "name": "stdout",
     "output_type": "stream",
     "text": [
      "Random Forest Accuracy: 0.9408376963350785\n"
     ]
    }
   ],
   "source": [
    "from sklearn.ensemble import RandomForestClassifier\n",
    "\n",
    "rf_model = RandomForestClassifier(n_estimators=100, random_state=42)\n",
    "rf_model.fit(X_train, y_train)\n",
    "rf_pred = rf_model.predict(X_test)\n",
    "print(\"Random Forest Accuracy:\", accuracy_score(y_test, rf_pred))\n"
   ]
  },
  {
   "cell_type": "code",
   "execution_count": 44,
   "metadata": {},
   "outputs": [
    {
     "name": "stdout",
     "output_type": "stream",
     "text": [
      "Requirement already satisfied: xgboost in c:\\users\\acer\\onedrive\\desktop\\healthcare insurance\\env\\lib\\site-packages (3.0.0)\n",
      "Requirement already satisfied: numpy in c:\\users\\acer\\onedrive\\desktop\\healthcare insurance\\env\\lib\\site-packages (from xgboost) (2.2.5)\n",
      "Requirement already satisfied: scipy in c:\\users\\acer\\onedrive\\desktop\\healthcare insurance\\env\\lib\\site-packages (from xgboost) (1.15.2)\n"
     ]
    },
    {
     "name": "stderr",
     "output_type": "stream",
     "text": [
      "\n",
      "[notice] A new release of pip is available: 24.2 -> 25.1\n",
      "[notice] To update, run: python.exe -m pip install --upgrade pip\n"
     ]
    }
   ],
   "source": [
    "!pip install xgboost"
   ]
  },
  {
   "cell_type": "code",
   "execution_count": 45,
   "metadata": {},
   "outputs": [
    {
     "name": "stdout",
     "output_type": "stream",
     "text": [
      "📈 XGBoost Classifier Results:\n",
      "Accuracy: 0.9455497382198953\n",
      "Confusion Matrix:\n",
      " [[855  45]\n",
      " [ 59 951]]\n",
      "Classification Report:\n",
      "               precision    recall  f1-score   support\n",
      "\n",
      "           0       0.94      0.95      0.94       900\n",
      "           1       0.95      0.94      0.95      1010\n",
      "\n",
      "    accuracy                           0.95      1910\n",
      "   macro avg       0.95      0.95      0.95      1910\n",
      "weighted avg       0.95      0.95      0.95      1910\n",
      "\n",
      "--------------------------------------------------\n"
     ]
    },
    {
     "name": "stderr",
     "output_type": "stream",
     "text": [
      "c:\\Users\\acer\\OneDrive\\Desktop\\Healthcare Insurance\\env\\Lib\\site-packages\\xgboost\\training.py:183: UserWarning: [16:14:22] WARNING: C:\\actions-runner\\_work\\xgboost\\xgboost\\src\\learner.cc:738: \n",
      "Parameters: { \"use_label_encoder\" } are not used.\n",
      "\n",
      "  bst.update(dtrain, iteration=i, fobj=obj)\n"
     ]
    }
   ],
   "source": [
    "from sklearn.linear_model import LogisticRegression\n",
    "from xgboost import XGBClassifier\n",
    "from sklearn.metrics import accuracy_score, confusion_matrix, classification_report\n",
    "\n",
    "# XGBoost Classifier\n",
    "xgb_model = XGBClassifier(use_label_encoder=False, eval_metric='logloss', random_state=42)\n",
    "xgb_model.fit(X_train, y_train)\n",
    "xgb_pred = xgb_model.predict(X_test)\n",
    "\n",
    "print(\"📈 XGBoost Classifier Results:\")\n",
    "print(\"Accuracy:\", accuracy_score(y_test, xgb_pred))\n",
    "print(\"Confusion Matrix:\\n\", confusion_matrix(y_test, xgb_pred))\n",
    "print(\"Classification Report:\\n\", classification_report(y_test, xgb_pred))\n",
    "\n",
    "print(\"-\" * 50)"
   ]
  },
  {
   "cell_type": "code",
   "execution_count": 46,
   "metadata": {},
   "outputs": [
    {
     "name": "stdout",
     "output_type": "stream",
     "text": [
      "📈 Logistic Regression Results:\n",
      "Accuracy: 0.8214659685863874\n",
      "Confusion Matrix:\n",
      " [[724 176]\n",
      " [165 845]]\n",
      "Classification Report:\n",
      "               precision    recall  f1-score   support\n",
      "\n",
      "           0       0.81      0.80      0.81       900\n",
      "           1       0.83      0.84      0.83      1010\n",
      "\n",
      "    accuracy                           0.82      1910\n",
      "   macro avg       0.82      0.82      0.82      1910\n",
      "weighted avg       0.82      0.82      0.82      1910\n",
      "\n"
     ]
    }
   ],
   "source": [
    "# Logistic Regression\n",
    "logreg = LogisticRegression(max_iter=1000, random_state=42)\n",
    "logreg.fit(X_train, y_train)\n",
    "logreg_pred = logreg.predict(X_test)\n",
    "\n",
    "print(\"📈 Logistic Regression Results:\")\n",
    "print(\"Accuracy:\", accuracy_score(y_test, logreg_pred))\n",
    "print(\"Confusion Matrix:\\n\", confusion_matrix(y_test, logreg_pred))\n",
    "print(\"Classification Report:\\n\", classification_report(y_test, logreg_pred))\n"
   ]
  },
  {
   "cell_type": "markdown",
   "metadata": {},
   "source": [
    "Accuracy Comparison Chart"
   ]
  },
  {
   "cell_type": "code",
   "execution_count": 47,
   "metadata": {},
   "outputs": [
    {
     "data": {
      "image/png": "[encoded data removed]",
      "text/plain": [
       "<Figure size 800x500 with 1 Axes>"
      ]
     },
     "metadata": {},
     "output_type": "display_data"
    }
   ],
   "source": [
    "import matplotlib.pyplot as plt\n",
    "import seaborn as sns\n",
    "\n",
    "# Store accuracies\n",
    "accuracies = {\n",
    "    'Bagging': accuracy_score(y_test, y_pred),           # y_pred from Bagging\n",
    "    'XGBoost': accuracy_score(y_test, xgb_pred),\n",
    "    'Logistic Regression': accuracy_score(y_test, logreg_pred)\n",
    "}\n",
    "\n",
    "# Convert to DataFrame\n",
    "accuracy_df = pd.DataFrame(list(accuracies.items()), columns=['Model', 'Accuracy'])\n",
    "\n",
    "# Plot\n",
    "plt.figure(figsize=(8, 5))\n",
    "sns.barplot(x='Model', y='Accuracy', hue='Model', data=accuracy_df, palette='viridis', legend=False)\n",
    "\n",
    "plt.ylim(0, 1)\n",
    "plt.title(\"Model Accuracy Comparison\")\n",
    "plt.ylabel(\"Accuracy Score\")\n",
    "plt.tight_layout()\n",
    "plt.show()\n"
   ]
  },
  {
   "cell_type": "code",
   "execution_count": 51,
   "metadata": {},
   "outputs": [
    {
     "name": "stdout",
     "output_type": "stream",
     "text": [
      "✅ Model saved successfully as 'best_health_model.pkl'\n"
     ]
    }
   ],
   "source": [
    "# Step 1: Import required libraries\n",
    "import pandas as pd\n",
    "from sklearn.ensemble import BaggingClassifier\n",
    "from sklearn.tree import DecisionTreeClassifier\n",
    "from sklearn.model_selection import train_test_split\n",
    "import joblib\n",
    "\n",
    "# Step 2: Load the dataset\n",
    "file_path = \"C:/Users/acer/OneDrive/Desktop/Healthcare Insurance/Healthcare_Dataset_Preprocessed.csv\"\n",
    "df = pd.read_csv(file_path)\n",
    "\n",
    "# Step 3: Prepare features and target\n",
    "X = df.drop(\"Target\", axis=1)\n",
    "y = df[\"Target\"]\n",
    "X_train, X_test, y_train, y_test = train_test_split(X, y, test_size=0.2, random_state=42)\n",
    "\n",
    "# Step 4: Recreate the model\n",
    "bagging_model = BaggingClassifier(\n",
    "    estimator=DecisionTreeClassifier(),\n",
    "    n_estimators=100,\n",
    "    random_state=42\n",
    ")\n",
    "bagging_model.fit(X_train, y_train)\n",
    "\n",
    "# Step 5: Save it as the best model\n",
    "best_model = bagging_model\n",
    "joblib.dump(best_model, 'best_health_model.pkl')\n",
    "print(\"✅ Model saved successfully as 'best_health_model.pkl'\")\n"
   ]
  },
  {
   "cell_type": "code",
   "execution_count": 52,
   "metadata": {},
   "outputs": [
    {
     "name": "stdout",
     "output_type": "stream",
     "text": [
      "c:\\Users\\acer\\OneDrive\\Desktop\\Healthcare Insurance\\experiment\n"
     ]
    }
   ],
   "source": [
    "import os\n",
    "print(os.getcwd())\n"
   ]
  },
  {
   "cell_type": "code",
   "execution_count": 53,
   "metadata": {},
   "outputs": [
    {
     "name": "stdout",
     "output_type": "stream",
     "text": [
      "['best_health_model.pkl', 'Dee.ipynb']\n"
     ]
    }
   ],
   "source": [
    "print(os.listdir())\n"
   ]
  },
  {
   "cell_type": "code",
   "execution_count": 54,
   "metadata": {},
   "outputs": [
    {
     "data": {
      "text/plain": [
       "['best_health_model.pkl']"
      ]
     },
     "execution_count": 54,
     "metadata": {},
     "output_type": "execute_result"
    }
   ],
   "source": [
    "import joblib\n",
    "joblib.dump(best_model, 'best_health_model.pkl')\n"
   ]
  },
  {
   "cell_type": "code",
   "execution_count": 55,
   "metadata": {},
   "outputs": [],
   "source": [
    "loaded_model = joblib.load('best_health_model.pkl')\n"
   ]
  },
  {
   "cell_type": "code",
   "execution_count": null,
   "metadata": {},
   "outputs": [],
   "source": []
  },
  {
   "cell_type": "code",
   "execution_count": null,
   "metadata": {},
   "outputs": [],
   "source": []
  },
  {
   "cell_type": "code",
   "execution_count": null,
   "metadata": {},
   "outputs": [],
   "source": []
  }
 ],
 "metadata": {
  "kernelspec": {
   "display_name": "env",
   "language": "python",
   "name": "python3"
  },
  "language_info": {
   "codemirror_mode": {
    "name": "ipython",
    "version": 3
   },
   "file_extension": ".py",
   "mimetype": "text/x-python",
   "name": "python",
   "nbconvert_exporter": "python",
   "pygments_lexer": "ipython3",
   "version": "3.12.7"
  }
 },
 "nbformat": 4,
 "nbformat_minor": 2
}
